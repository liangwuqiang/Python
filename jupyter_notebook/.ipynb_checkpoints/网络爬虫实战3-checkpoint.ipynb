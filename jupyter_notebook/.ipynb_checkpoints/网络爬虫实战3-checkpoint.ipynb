{
 "cells": [
  {
   "cell_type": "code",
   "execution_count": 1,
   "metadata": {
    "collapsed": true
   },
   "outputs": [],
   "source": [
    "import requests\n",
    "from bs4 import BeautifulSoup\n",
    "\n",
    "url = 'http://news.sina.com.cn/c/nd/2017-08-27/doc-ifykiqfe2001395.shtml'\n",
    "res = requests.get(url)\n",
    "res.encoding = 'utf-8'\n",
    "# print(res.text)\n",
    "soup = BeautifulSoup(res.text, 'html.parser')"
   ]
  },
  {
   "cell_type": "code",
   "execution_count": 2,
   "metadata": {},
   "outputs": [
    {
     "name": "stdout",
     "output_type": "stream",
     "text": [
      "牌照停车位充电桩短缺 共享汽车如何突围？\n"
     ]
    }
   ],
   "source": [
    "title = soup.select('#artibodyTitle')[0].text\n",
    "print(title)"
   ]
  },
  {
   "cell_type": "code",
   "execution_count": 3,
   "metadata": {},
   "outputs": [
    {
     "data": {
      "text/plain": [
       "<span class=\"time-source\" id=\"navtimeSource\">2017年08月27日16:56\t\t<span>\n",
       "<span data-sudaclick=\"media_name\"><a href=\"http://202.84.17.88/cn/security/detail.do?sw=&amp;docId=274161939&amp;libId=2&amp;docType=1&amp;cid=37&amp;ct=\" rel=\"nofollow\" target=\"_blank\">新华社</a></span></span>\n",
       "</span>"
      ]
     },
     "execution_count": 3,
     "metadata": {},
     "output_type": "execute_result"
    }
   ],
   "source": [
    "soup.select('.time-source')[0]"
   ]
  },
  {
   "cell_type": "code",
   "execution_count": 4,
   "metadata": {},
   "outputs": [
    {
     "data": {
      "text/plain": [
       "['2017年08月27日16:56\\t\\t', <span>\n",
       " <span data-sudaclick=\"media_name\"><a href=\"http://202.84.17.88/cn/security/detail.do?sw=&amp;docId=274161939&amp;libId=2&amp;docType=1&amp;cid=37&amp;ct=\" rel=\"nofollow\" target=\"_blank\">新华社</a></span></span>, '\\n']"
      ]
     },
     "execution_count": 4,
     "metadata": {},
     "output_type": "execute_result"
    }
   ],
   "source": [
    "soup.select('.time-source')[0].contents"
   ]
  },
  {
   "cell_type": "code",
   "execution_count": 5,
   "metadata": {},
   "outputs": [
    {
     "name": "stdout",
     "output_type": "stream",
     "text": [
      "2017年08月27日16:56\n"
     ]
    },
    {
     "data": {
      "text/plain": [
       "str"
      ]
     },
     "execution_count": 5,
     "metadata": {},
     "output_type": "execute_result"
    }
   ],
   "source": [
    "timesource = soup.select('.time-source')[0].contents[0].strip()\n",
    "print(timesource)\n",
    "type(timesource)"
   ]
  },
  {
   "cell_type": "code",
   "execution_count": 6,
   "metadata": {},
   "outputs": [
    {
     "data": {
      "text/plain": [
       "datetime.datetime(2017, 8, 27, 16, 56)"
      ]
     },
     "execution_count": 6,
     "metadata": {},
     "output_type": "execute_result"
    }
   ],
   "source": [
    "from datetime import datetime\n",
    "dt = datetime.strptime(timesource,'%Y年%m月%d日%H:%M')\n",
    "dt"
   ]
  },
  {
   "cell_type": "code",
   "execution_count": 7,
   "metadata": {},
   "outputs": [
    {
     "name": "stdout",
     "output_type": "stream",
     "text": [
      "2017-08-27 16:56:00\n"
     ]
    }
   ],
   "source": [
    "print(dt)"
   ]
  },
  {
   "cell_type": "code",
   "execution_count": 8,
   "metadata": {},
   "outputs": [
    {
     "data": {
      "text/plain": [
       "'2017-08-27'"
      ]
     },
     "execution_count": 8,
     "metadata": {},
     "output_type": "execute_result"
    }
   ],
   "source": [
    "dt.strftime('%Y-%m-%d')"
   ]
  },
  {
   "cell_type": "code",
   "execution_count": 9,
   "metadata": {},
   "outputs": [
    {
     "data": {
      "text/plain": [
       "'新华社'"
      ]
     },
     "execution_count": 9,
     "metadata": {},
     "output_type": "execute_result"
    }
   ],
   "source": [
    "soup.select('.time-source span a')[0].text"
   ]
  },
  {
   "cell_type": "code",
   "execution_count": 10,
   "metadata": {},
   "outputs": [
    {
     "data": {
      "text/plain": [
       "[<p>　　新华社上海8月27日电题：牌照、停车位、充电桩短缺——共享汽车如何突围？</p>,\n",
       " <p>　　新华社记者高少华、丁静、王丰</p>,\n",
       " <p>　　共享汽车成为国内共享经济新风口。交通运输部、住房城乡建设部近期联合发布的《关于促进小微型客车租赁健康发展的指导意见》提出，“鼓励分时租赁发展”，给相关行业注入一针“强心剂”。</p>,\n",
       " <p>　　日前举行的“2017上海国际共享汽车大会”上专家指出，分时租赁在中国“起步较晚，蓬勃发展，但举步尚艰”，牌照、停车位、充电桩等成为瓶颈，需要各方协同创新以促进产业可持续发展。</p>,\n",
       " <p>　　<strong>“跑马圈地”正上演</strong></p>,\n",
       " <p>　　共享汽车作为城市公共出行的补充，今年以来正在国内多个城市迅速升温。</p>,\n",
       " <p>　　共享宝马、共享吉普、共享特斯拉等消息引起公众关注。国内各大共享汽车企业“跑马圈地”：环球车享投放运营车辆已达13000辆，今年底预计增至3万辆；杭州盼达在全国有近万辆汽车在运营；Gofun出行称已购置车辆12000辆。</p>,\n",
       " <p>　　“共享自行车解决零到十公里的出行，共享汽车可以解决十到一百公里。”环球车享首席市场官黄春华说，推动电动汽车分时租赁对汽车产业、城市发展和用户出行意义重大。</p>,\n",
       " <p>　　指导意见“鼓励分时租赁发展”。同济大学汽车学院副教授、全国新能源汽车产业数据中心副秘书长吴小员说：“新能源汽车分时租赁获得政策支持，预示分时租赁将逐步进入有序健康的发展轨道。”</p>,\n",
       " <p>　　在专家看来，指导意见出台，显示国家将分时租赁视为减缓大城市私人轿车快速增长的途径。分时租赁或将成为多层次城市交通体系一部分，为人们提供出行方式新选择。</p>,\n",
       " <p>　　<strong>城市管理跟不上</strong></p>,\n",
       " <p>　　共享汽车发展如火如荼，但牌照、停车位、充电桩等公共资源短缺，成为制约行业快速发展的瓶颈。“对电动汽车分时租赁来说，卡脖子的不是钱，而是车、桩、位一体化的共享。”吴小员说。</p>,\n",
       " <p>　　牌照紧缺是共享汽车面临的首要难题。前不久，深圳市宝港能源科技有限公司宣布，今年年底前将在深圳投放新能源共享汽车10000台。企业的热情却被浇了一盆冷水。“深圳市交委给不了那么多车牌，我们只得缩减到4000台。”宝港能源副总经理吴波说，公司投放计划缩减一多半，过去两个多月，企业实际获得牌照只有900张左右。在牌照资源紧张的城市，这个矛盾凸显。</p>,\n",
       " <p>　　停车位不足是另一大问题。在北上广深等一线城市，公共停车位资源本就紧张，许多共享汽车无车位可停。多家共享汽车企业负责人表示，取还车网点是行业发展的关键，已有网点远远不能满足用户需求，停车位不足直接影响用户体验。</p>,\n",
       " <p>　　共享汽车也面临充电难题。新能源共享汽车需要大量充电桩来配套，充电桩和共享汽车数量不匹配，严重制约分时租赁行业车辆运营率。Gofun出行首席运营官谭奕说，充电桩越多，车和桩离得越近，充电效率和运营效率就越高。在一些城市老城区，增容是一个问题。</p>,\n",
       " <p>　　专家认为，共享汽车在国内处于发展初期，面临许多不完善的地方。这个行业需要资金，更需要充电、车位、运营等资源。国内共享汽车已现爆发迹象，城市公共资源却“捉襟见肘”。</p>,\n",
       " <p>　　<strong>共同发力解难题</strong></p>,\n",
       " <p>　　今年上半年，共享汽车品牌“友友用车”停止运营，给行业敲了警钟。“跑马圈地，盲目扩张，急功近利，不是可持续发展方式。”北京首汽智行科技有限公司战略副总裁袁旬说。</p>,\n",
       " <p>　　深圳市政协委员、深圳职业技术学院副教授王雪说，共享汽车需要大量牌照、停车场地等公共资源，共享汽车迅速扩张与资源日趋紧张之间必然出现越来越尖锐的矛盾。公共配套资源如何及时跟上、合理配置，考验政府部门的智慧和能力。</p>,\n",
       " <p>　　“面对共享汽车爆发的迹象，政府部门应未雨绸缪，优化牌照、停车位、充电桩等公共资源的管理、调配、建设。”王雪说。</p>,\n",
       " <p>　　北京市律师协会交通专业委员会秘书长黄海波认为，汽车占用城市空间和道路资源较多，城市管理者要研究规模控制、市场准入、车辆定义、安全规范、保险等问题。</p>,\n",
       " <p>　　广州规划专家、华南理工大学教授袁奇峰说，多样化出行需求客观存在，共享汽车增加了服务类型，有条件的地方应考虑完善配套设施支持其发展。</p>,\n",
       " <p>　　交通运输部科学研究院发展中心副研究员李艳霞说，共享单车运营中出现了乱停乱放、占用车道、随意破坏、违规骑行等乱象，共享汽车如何避免类似问题，是管理部门从一开始就需要重点考虑的。（完）</p>,\n",
       " <p class=\"article-editor\">责任编辑：张迪 </p>]"
      ]
     },
     "execution_count": 10,
     "metadata": {},
     "output_type": "execute_result"
    }
   ],
   "source": [
    "soup.select('#artibody p')"
   ]
  },
  {
   "cell_type": "code",
   "execution_count": 11,
   "metadata": {},
   "outputs": [
    {
     "data": {
      "text/plain": [
       "[<p>　　新华社上海8月27日电题：牌照、停车位、充电桩短缺——共享汽车如何突围？</p>,\n",
       " <p>　　新华社记者高少华、丁静、王丰</p>,\n",
       " <p>　　共享汽车成为国内共享经济新风口。交通运输部、住房城乡建设部近期联合发布的《关于促进小微型客车租赁健康发展的指导意见》提出，“鼓励分时租赁发展”，给相关行业注入一针“强心剂”。</p>,\n",
       " <p>　　日前举行的“2017上海国际共享汽车大会”上专家指出，分时租赁在中国“起步较晚，蓬勃发展，但举步尚艰”，牌照、停车位、充电桩等成为瓶颈，需要各方协同创新以促进产业可持续发展。</p>,\n",
       " <p>　　<strong>“跑马圈地”正上演</strong></p>,\n",
       " <p>　　共享汽车作为城市公共出行的补充，今年以来正在国内多个城市迅速升温。</p>,\n",
       " <p>　　共享宝马、共享吉普、共享特斯拉等消息引起公众关注。国内各大共享汽车企业“跑马圈地”：环球车享投放运营车辆已达13000辆，今年底预计增至3万辆；杭州盼达在全国有近万辆汽车在运营；Gofun出行称已购置车辆12000辆。</p>,\n",
       " <p>　　“共享自行车解决零到十公里的出行，共享汽车可以解决十到一百公里。”环球车享首席市场官黄春华说，推动电动汽车分时租赁对汽车产业、城市发展和用户出行意义重大。</p>,\n",
       " <p>　　指导意见“鼓励分时租赁发展”。同济大学汽车学院副教授、全国新能源汽车产业数据中心副秘书长吴小员说：“新能源汽车分时租赁获得政策支持，预示分时租赁将逐步进入有序健康的发展轨道。”</p>,\n",
       " <p>　　在专家看来，指导意见出台，显示国家将分时租赁视为减缓大城市私人轿车快速增长的途径。分时租赁或将成为多层次城市交通体系一部分，为人们提供出行方式新选择。</p>,\n",
       " <p>　　<strong>城市管理跟不上</strong></p>,\n",
       " <p>　　共享汽车发展如火如荼，但牌照、停车位、充电桩等公共资源短缺，成为制约行业快速发展的瓶颈。“对电动汽车分时租赁来说，卡脖子的不是钱，而是车、桩、位一体化的共享。”吴小员说。</p>,\n",
       " <p>　　牌照紧缺是共享汽车面临的首要难题。前不久，深圳市宝港能源科技有限公司宣布，今年年底前将在深圳投放新能源共享汽车10000台。企业的热情却被浇了一盆冷水。“深圳市交委给不了那么多车牌，我们只得缩减到4000台。”宝港能源副总经理吴波说，公司投放计划缩减一多半，过去两个多月，企业实际获得牌照只有900张左右。在牌照资源紧张的城市，这个矛盾凸显。</p>,\n",
       " <p>　　停车位不足是另一大问题。在北上广深等一线城市，公共停车位资源本就紧张，许多共享汽车无车位可停。多家共享汽车企业负责人表示，取还车网点是行业发展的关键，已有网点远远不能满足用户需求，停车位不足直接影响用户体验。</p>,\n",
       " <p>　　共享汽车也面临充电难题。新能源共享汽车需要大量充电桩来配套，充电桩和共享汽车数量不匹配，严重制约分时租赁行业车辆运营率。Gofun出行首席运营官谭奕说，充电桩越多，车和桩离得越近，充电效率和运营效率就越高。在一些城市老城区，增容是一个问题。</p>,\n",
       " <p>　　专家认为，共享汽车在国内处于发展初期，面临许多不完善的地方。这个行业需要资金，更需要充电、车位、运营等资源。国内共享汽车已现爆发迹象，城市公共资源却“捉襟见肘”。</p>,\n",
       " <p>　　<strong>共同发力解难题</strong></p>,\n",
       " <p>　　今年上半年，共享汽车品牌“友友用车”停止运营，给行业敲了警钟。“跑马圈地，盲目扩张，急功近利，不是可持续发展方式。”北京首汽智行科技有限公司战略副总裁袁旬说。</p>,\n",
       " <p>　　深圳市政协委员、深圳职业技术学院副教授王雪说，共享汽车需要大量牌照、停车场地等公共资源，共享汽车迅速扩张与资源日趋紧张之间必然出现越来越尖锐的矛盾。公共配套资源如何及时跟上、合理配置，考验政府部门的智慧和能力。</p>,\n",
       " <p>　　“面对共享汽车爆发的迹象，政府部门应未雨绸缪，优化牌照、停车位、充电桩等公共资源的管理、调配、建设。”王雪说。</p>,\n",
       " <p>　　北京市律师协会交通专业委员会秘书长黄海波认为，汽车占用城市空间和道路资源较多，城市管理者要研究规模控制、市场准入、车辆定义、安全规范、保险等问题。</p>,\n",
       " <p>　　广州规划专家、华南理工大学教授袁奇峰说，多样化出行需求客观存在，共享汽车增加了服务类型，有条件的地方应考虑完善配套设施支持其发展。</p>,\n",
       " <p>　　交通运输部科学研究院发展中心副研究员李艳霞说，共享单车运营中出现了乱停乱放、占用车道、随意破坏、违规骑行等乱象，共享汽车如何避免类似问题，是管理部门从一开始就需要重点考虑的。（完）</p>]"
      ]
     },
     "execution_count": 11,
     "metadata": {},
     "output_type": "execute_result"
    }
   ],
   "source": [
    "soup.select('#artibody p')[:-1]"
   ]
  },
  {
   "cell_type": "code",
   "execution_count": 12,
   "metadata": {},
   "outputs": [
    {
     "name": "stdout",
     "output_type": "stream",
     "text": [
      "['新华社上海8月27日电题：牌照、停车位、充电桩短缺——共享汽车如何突围？', '新华社记者高少华、丁静、王丰', '共享汽车成为国内共享经济新风口。交通运输部、住房城乡建设部近期联合发布的《关于促进小微型客车租赁健康发展的指导意见》提出，“鼓励分时租赁发展”，给相关行业注入一针“强心剂”。', '日前举行的“2017上海国际共享汽车大会”上专家指出，分时租赁在中国“起步较晚，蓬勃发展，但举步尚艰”，牌照、停车位、充电桩等成为瓶颈，需要各方协同创新以促进产业可持续发展。', '“跑马圈地”正上演', '共享汽车作为城市公共出行的补充，今年以来正在国内多个城市迅速升温。', '共享宝马、共享吉普、共享特斯拉等消息引起公众关注。国内各大共享汽车企业“跑马圈地”：环球车享投放运营车辆已达13000辆，今年底预计增至3万辆；杭州盼达在全国有近万辆汽车在运营；Gofun出行称已购置车辆12000辆。', '“共享自行车解决零到十公里的出行，共享汽车可以解决十到一百公里。”环球车享首席市场官黄春华说，推动电动汽车分时租赁对汽车产业、城市发展和用户出行意义重大。', '指导意见“鼓励分时租赁发展”。同济大学汽车学院副教授、全国新能源汽车产业数据中心副秘书长吴小员说：“新能源汽车分时租赁获得政策支持，预示分时租赁将逐步进入有序健康的发展轨道。”', '在专家看来，指导意见出台，显示国家将分时租赁视为减缓大城市私人轿车快速增长的途径。分时租赁或将成为多层次城市交通体系一部分，为人们提供出行方式新选择。', '城市管理跟不上', '共享汽车发展如火如荼，但牌照、停车位、充电桩等公共资源短缺，成为制约行业快速发展的瓶颈。“对电动汽车分时租赁来说，卡脖子的不是钱，而是车、桩、位一体化的共享。”吴小员说。', '牌照紧缺是共享汽车面临的首要难题。前不久，深圳市宝港能源科技有限公司宣布，今年年底前将在深圳投放新能源共享汽车10000台。企业的热情却被浇了一盆冷水。“深圳市交委给不了那么多车牌，我们只得缩减到4000台。”宝港能源副总经理吴波说，公司投放计划缩减一多半，过去两个多月，企业实际获得牌照只有900张左右。在牌照资源紧张的城市，这个矛盾凸显。', '停车位不足是另一大问题。在北上广深等一线城市，公共停车位资源本就紧张，许多共享汽车无车位可停。多家共享汽车企业负责人表示，取还车网点是行业发展的关键，已有网点远远不能满足用户需求，停车位不足直接影响用户体验。', '共享汽车也面临充电难题。新能源共享汽车需要大量充电桩来配套，充电桩和共享汽车数量不匹配，严重制约分时租赁行业车辆运营率。Gofun出行首席运营官谭奕说，充电桩越多，车和桩离得越近，充电效率和运营效率就越高。在一些城市老城区，增容是一个问题。', '专家认为，共享汽车在国内处于发展初期，面临许多不完善的地方。这个行业需要资金，更需要充电、车位、运营等资源。国内共享汽车已现爆发迹象，城市公共资源却“捉襟见肘”。', '共同发力解难题', '今年上半年，共享汽车品牌“友友用车”停止运营，给行业敲了警钟。“跑马圈地，盲目扩张，急功近利，不是可持续发展方式。”北京首汽智行科技有限公司战略副总裁袁旬说。', '深圳市政协委员、深圳职业技术学院副教授王雪说，共享汽车需要大量牌照、停车场地等公共资源，共享汽车迅速扩张与资源日趋紧张之间必然出现越来越尖锐的矛盾。公共配套资源如何及时跟上、合理配置，考验政府部门的智慧和能力。', '“面对共享汽车爆发的迹象，政府部门应未雨绸缪，优化牌照、停车位、充电桩等公共资源的管理、调配、建设。”王雪说。', '北京市律师协会交通专业委员会秘书长黄海波认为，汽车占用城市空间和道路资源较多，城市管理者要研究规模控制、市场准入、车辆定义、安全规范、保险等问题。', '广州规划专家、华南理工大学教授袁奇峰说，多样化出行需求客观存在，共享汽车增加了服务类型，有条件的地方应考虑完善配套设施支持其发展。', '交通运输部科学研究院发展中心副研究员李艳霞说，共享单车运营中出现了乱停乱放、占用车道、随意破坏、违规骑行等乱象，共享汽车如何避免类似问题，是管理部门从一开始就需要重点考虑的。（完）']\n"
     ]
    }
   ],
   "source": [
    "article = []\n",
    "for p in soup.select('#artibody p')[:-1]:\n",
    "    article.append(p.text.strip())\n",
    "print(article)"
   ]
  },
  {
   "cell_type": "code",
   "execution_count": 13,
   "metadata": {},
   "outputs": [
    {
     "data": {
      "text/plain": [
       "'新华社上海8月27日电题：牌照、停车位、充电桩短缺——共享汽车如何突围？ 新华社记者高少华、丁静、王丰 共享汽车成为国内共享经济新风口。交通运输部、住房城乡建设部近期联合发布的《关于促进小微型客车租赁健康发展的指导意见》提出，“鼓励分时租赁发展”，给相关行业注入一针“强心剂”。 日前举行的“2017上海国际共享汽车大会”上专家指出，分时租赁在中国“起步较晚，蓬勃发展，但举步尚艰”，牌照、停车位、充电桩等成为瓶颈，需要各方协同创新以促进产业可持续发展。 “跑马圈地”正上演 共享汽车作为城市公共出行的补充，今年以来正在国内多个城市迅速升温。 共享宝马、共享吉普、共享特斯拉等消息引起公众关注。国内各大共享汽车企业“跑马圈地”：环球车享投放运营车辆已达13000辆，今年底预计增至3万辆；杭州盼达在全国有近万辆汽车在运营；Gofun出行称已购置车辆12000辆。 “共享自行车解决零到十公里的出行，共享汽车可以解决十到一百公里。”环球车享首席市场官黄春华说，推动电动汽车分时租赁对汽车产业、城市发展和用户出行意义重大。 指导意见“鼓励分时租赁发展”。同济大学汽车学院副教授、全国新能源汽车产业数据中心副秘书长吴小员说：“新能源汽车分时租赁获得政策支持，预示分时租赁将逐步进入有序健康的发展轨道。” 在专家看来，指导意见出台，显示国家将分时租赁视为减缓大城市私人轿车快速增长的途径。分时租赁或将成为多层次城市交通体系一部分，为人们提供出行方式新选择。 城市管理跟不上 共享汽车发展如火如荼，但牌照、停车位、充电桩等公共资源短缺，成为制约行业快速发展的瓶颈。“对电动汽车分时租赁来说，卡脖子的不是钱，而是车、桩、位一体化的共享。”吴小员说。 牌照紧缺是共享汽车面临的首要难题。前不久，深圳市宝港能源科技有限公司宣布，今年年底前将在深圳投放新能源共享汽车10000台。企业的热情却被浇了一盆冷水。“深圳市交委给不了那么多车牌，我们只得缩减到4000台。”宝港能源副总经理吴波说，公司投放计划缩减一多半，过去两个多月，企业实际获得牌照只有900张左右。在牌照资源紧张的城市，这个矛盾凸显。 停车位不足是另一大问题。在北上广深等一线城市，公共停车位资源本就紧张，许多共享汽车无车位可停。多家共享汽车企业负责人表示，取还车网点是行业发展的关键，已有网点远远不能满足用户需求，停车位不足直接影响用户体验。 共享汽车也面临充电难题。新能源共享汽车需要大量充电桩来配套，充电桩和共享汽车数量不匹配，严重制约分时租赁行业车辆运营率。Gofun出行首席运营官谭奕说，充电桩越多，车和桩离得越近，充电效率和运营效率就越高。在一些城市老城区，增容是一个问题。 专家认为，共享汽车在国内处于发展初期，面临许多不完善的地方。这个行业需要资金，更需要充电、车位、运营等资源。国内共享汽车已现爆发迹象，城市公共资源却“捉襟见肘”。 共同发力解难题 今年上半年，共享汽车品牌“友友用车”停止运营，给行业敲了警钟。“跑马圈地，盲目扩张，急功近利，不是可持续发展方式。”北京首汽智行科技有限公司战略副总裁袁旬说。 深圳市政协委员、深圳职业技术学院副教授王雪说，共享汽车需要大量牌照、停车场地等公共资源，共享汽车迅速扩张与资源日趋紧张之间必然出现越来越尖锐的矛盾。公共配套资源如何及时跟上、合理配置，考验政府部门的智慧和能力。 “面对共享汽车爆发的迹象，政府部门应未雨绸缪，优化牌照、停车位、充电桩等公共资源的管理、调配、建设。”王雪说。 北京市律师协会交通专业委员会秘书长黄海波认为，汽车占用城市空间和道路资源较多，城市管理者要研究规模控制、市场准入、车辆定义、安全规范、保险等问题。 广州规划专家、华南理工大学教授袁奇峰说，多样化出行需求客观存在，共享汽车增加了服务类型，有条件的地方应考虑完善配套设施支持其发展。 交通运输部科学研究院发展中心副研究员李艳霞说，共享单车运营中出现了乱停乱放、占用车道、随意破坏、违规骑行等乱象，共享汽车如何避免类似问题，是管理部门从一开始就需要重点考虑的。（完）'"
      ]
     },
     "execution_count": 13,
     "metadata": {},
     "output_type": "execute_result"
    }
   ],
   "source": [
    "' '.join(article)"
   ]
  },
  {
   "cell_type": "code",
   "execution_count": 14,
   "metadata": {},
   "outputs": [
    {
     "data": {
      "text/plain": [
       "'新华社上海8月27日电题：牌照、停车位、充电桩短缺——共享汽车如何突围？ 新华社记者高少华、丁静、王丰 共享汽车成为国内共享经济新风口。交通运输部、住房城乡建设部近期联合发布的《关于促进小微型客车租赁健康发展的指导意见》提出，“鼓励分时租赁发展”，给相关行业注入一针“强心剂”。 日前举行的“2017上海国际共享汽车大会”上专家指出，分时租赁在中国“起步较晚，蓬勃发展，但举步尚艰”，牌照、停车位、充电桩等成为瓶颈，需要各方协同创新以促进产业可持续发展。 “跑马圈地”正上演 共享汽车作为城市公共出行的补充，今年以来正在国内多个城市迅速升温。 共享宝马、共享吉普、共享特斯拉等消息引起公众关注。国内各大共享汽车企业“跑马圈地”：环球车享投放运营车辆已达13000辆，今年底预计增至3万辆；杭州盼达在全国有近万辆汽车在运营；Gofun出行称已购置车辆12000辆。 “共享自行车解决零到十公里的出行，共享汽车可以解决十到一百公里。”环球车享首席市场官黄春华说，推动电动汽车分时租赁对汽车产业、城市发展和用户出行意义重大。 指导意见“鼓励分时租赁发展”。同济大学汽车学院副教授、全国新能源汽车产业数据中心副秘书长吴小员说：“新能源汽车分时租赁获得政策支持，预示分时租赁将逐步进入有序健康的发展轨道。” 在专家看来，指导意见出台，显示国家将分时租赁视为减缓大城市私人轿车快速增长的途径。分时租赁或将成为多层次城市交通体系一部分，为人们提供出行方式新选择。 城市管理跟不上 共享汽车发展如火如荼，但牌照、停车位、充电桩等公共资源短缺，成为制约行业快速发展的瓶颈。“对电动汽车分时租赁来说，卡脖子的不是钱，而是车、桩、位一体化的共享。”吴小员说。 牌照紧缺是共享汽车面临的首要难题。前不久，深圳市宝港能源科技有限公司宣布，今年年底前将在深圳投放新能源共享汽车10000台。企业的热情却被浇了一盆冷水。“深圳市交委给不了那么多车牌，我们只得缩减到4000台。”宝港能源副总经理吴波说，公司投放计划缩减一多半，过去两个多月，企业实际获得牌照只有900张左右。在牌照资源紧张的城市，这个矛盾凸显。 停车位不足是另一大问题。在北上广深等一线城市，公共停车位资源本就紧张，许多共享汽车无车位可停。多家共享汽车企业负责人表示，取还车网点是行业发展的关键，已有网点远远不能满足用户需求，停车位不足直接影响用户体验。 共享汽车也面临充电难题。新能源共享汽车需要大量充电桩来配套，充电桩和共享汽车数量不匹配，严重制约分时租赁行业车辆运营率。Gofun出行首席运营官谭奕说，充电桩越多，车和桩离得越近，充电效率和运营效率就越高。在一些城市老城区，增容是一个问题。 专家认为，共享汽车在国内处于发展初期，面临许多不完善的地方。这个行业需要资金，更需要充电、车位、运营等资源。国内共享汽车已现爆发迹象，城市公共资源却“捉襟见肘”。 共同发力解难题 今年上半年，共享汽车品牌“友友用车”停止运营，给行业敲了警钟。“跑马圈地，盲目扩张，急功近利，不是可持续发展方式。”北京首汽智行科技有限公司战略副总裁袁旬说。 深圳市政协委员、深圳职业技术学院副教授王雪说，共享汽车需要大量牌照、停车场地等公共资源，共享汽车迅速扩张与资源日趋紧张之间必然出现越来越尖锐的矛盾。公共配套资源如何及时跟上、合理配置，考验政府部门的智慧和能力。 “面对共享汽车爆发的迹象，政府部门应未雨绸缪，优化牌照、停车位、充电桩等公共资源的管理、调配、建设。”王雪说。 北京市律师协会交通专业委员会秘书长黄海波认为，汽车占用城市空间和道路资源较多，城市管理者要研究规模控制、市场准入、车辆定义、安全规范、保险等问题。 广州规划专家、华南理工大学教授袁奇峰说，多样化出行需求客观存在，共享汽车增加了服务类型，有条件的地方应考虑完善配套设施支持其发展。 交通运输部科学研究院发展中心副研究员李艳霞说，共享单车运营中出现了乱停乱放、占用车道、随意破坏、违规骑行等乱象，共享汽车如何避免类似问题，是管理部门从一开始就需要重点考虑的。（完）'"
      ]
     },
     "execution_count": 14,
     "metadata": {},
     "output_type": "execute_result"
    }
   ],
   "source": [
    "' '.join([p.text.strip() for p in soup.select('#artibody p')[:-1]])"
   ]
  },
  {
   "cell_type": "code",
   "execution_count": 15,
   "metadata": {},
   "outputs": [
    {
     "data": {
      "text/plain": [
       "[<p class=\"article-editor\">责任编辑：张迪 </p>]"
      ]
     },
     "execution_count": 15,
     "metadata": {},
     "output_type": "execute_result"
    }
   ],
   "source": [
    "soup.select('.article-editor')"
   ]
  },
  {
   "cell_type": "code",
   "execution_count": 16,
   "metadata": {},
   "outputs": [
    {
     "data": {
      "text/plain": [
       "'责任编辑：张迪 '"
      ]
     },
     "execution_count": 16,
     "metadata": {},
     "output_type": "execute_result"
    }
   ],
   "source": [
    "soup.select('.article-editor')[0].text"
   ]
  },
  {
   "cell_type": "code",
   "execution_count": 17,
   "metadata": {},
   "outputs": [
    {
     "data": {
      "text/plain": [
       "'张迪'"
      ]
     },
     "execution_count": 17,
     "metadata": {},
     "output_type": "execute_result"
    }
   ],
   "source": [
    "soup.select('.article-editor')[0].text.strip('责任编辑：').strip()"
   ]
  },
  {
   "cell_type": "code",
   "execution_count": 18,
   "metadata": {},
   "outputs": [
    {
     "data": {
      "text/plain": [
       "[<span id=\"commentCount1\"></span>]"
      ]
     },
     "execution_count": 18,
     "metadata": {},
     "output_type": "execute_result"
    }
   ],
   "source": [
    "soup.select('#commentCount1')"
   ]
  },
  {
   "cell_type": "code",
   "execution_count": 19,
   "metadata": {},
   "outputs": [
    {
     "name": "stdout",
     "output_type": "stream",
     "text": [
      "var data={\"result\": {\"status\": {\"msg\": \"\", \"code\": 0}, \"count\": {\"qreply\": 1, \"total\": 5, \"show\": 2}, \"replydict\": {}, \"language\": \"ch\", \"encoding\": \"utf-8\", \"top\": [], \"cmntlist\": [{\"comment_imgs\": \"\", \"parent_mid\": \"0\", \"news_mid_source\": \"0\", \"rank\": \"1\", \"mid\": \"59A2A921-72F30F25-7D8FA264-8C2-8EA\", \"vote\": \"0\", \"uid\": \"2106565220\", \"area\": \"\\u5317\\u4eac\", \"channel_source\": \"\", \"content\": \"\\u5305\\u62ec\\u7701\\u4f1a\\u5728\\u5185\\u7684\\u5927\\u578b\\u57ce\\u5e02\\u90fd\\u5728\\u4e3b\\u63a8\\u516c\\u5171\\u4ea4\\u901a\\uff0c\\u5206\\u65f6\\u79df\\u8d41\\u9700\\u8981\\u5927\\u91cf\\u7684\\u5145\\u7535\\u3001\\u8f66\\u4f4d\\u8d44\\u6e90\\u600e\\u4e48\\u53ef\\u80fd\\u90a3\\u4e48\\u5bb9\\u6613\\u7684\\u89e3\\u51b3\\uff0c\\u8fd8\\u5962\\u8c08\\u4ec0\\u4e48\\u201c\\u56fd\\u5185\\u5171\\u4eab\\u6c7d\\u8f66\\u5df2\\u73b0\\u7206\\u53d1\\u8ff9\\u8c61\\u201d\", \"nick\": \"noblezhang\", \"ip\": \"114.243.15.37\", \"parent_nick\": \"\", \"config\": \"client_port=0&area=\\u5317\\u4eac&wb_verified=0&wb_screen_name=noblezhang&wb_profile_img=http%3A%2F%2Ftva3.sinaimg.cn%2Fcrop.0.0.1080.1080.50%2F7d8fa264jw8erxv11st0fj20u00u0jup.jpg&followers_count=408&wb_user_id=2106565220&wb_time=1503832353&area=\\u5317\\u4eac\", \"channel\": \"gn\", \"comment_mid\": \"4818518162159841280\", \"status\": \"M_PASS\", \"newsid_source\": \"\", \"parent\": \"\", \"parent_profile_img\": \"\", \"news_mid\": \"4818484945662840832\", \"newsid\": \"comos-fykiqfe2001395\", \"parent_uid\": \"0\", \"thread_mid\": \"0\", \"thread\": \"\", \"level\": \"0\", \"against\": \"0\", \"usertype\": \"\", \"length\": \"67\", \"profile_img\": \"http://tva3.sinaimg.cn/crop.0.0.1080.1080.50/7d8fa264jw8erxv11st0fj20u00u0jup.jpg\", \"time\": \"2017-08-27 19:12:33\", \"agree\": \"1\"}, {\"comment_imgs\": \"\", \"parent_mid\": \"0\", \"news_mid_source\": \"0\", \"rank\": \"0\", \"mid\": \"59A2A0F9-72FCD34A-4D48C061-8C2-897\", \"vote\": \"0\", \"uid\": \"1296613473\", \"area\": \"\\u5317\\u4eac\", \"channel_source\": \"\", \"content\": \"\\u6da6\\u8bb8\\u56de\\u5bb6\\u5145\\u7535\\u3002\", \"nick\": \"1296613473\", \"ip\": \"114.252.211.74\", \"parent_nick\": \"\", \"config\": \"client_port=0&area=\\u5317\\u4eac&area=\\u5317\\u4eac\", \"channel\": \"gn\", \"comment_mid\": \"4818509405900058624\", \"status\": \"M_PASS\", \"newsid_source\": \"\", \"parent\": \"\", \"parent_profile_img\": \"\", \"news_mid\": \"4818484945662840832\", \"newsid\": \"comos-fykiqfe2001395\", \"parent_uid\": \"0\", \"thread_mid\": \"0\", \"thread\": \"\", \"level\": \"0\", \"against\": \"0\", \"usertype\": \"\", \"length\": \"7\", \"profile_img\": \"\", \"time\": \"2017-08-27 18:37:45\", \"agree\": \"0\"}], \"news\": {\"status\": \"N_NORMAL\", \"title\": \"\\u724c\\u7167\\u505c\\u8f66\\u4f4d\\u5145\\u7535\\u6869\\u77ed\\u7f3a \\u5171\\u4eab\\u6c7d\\u8f66\\u5982\\u4f55\\u7a81\\u56f4\\uff1f\", \"default\": \"M_DEFAULT\", \"show\": \"M_DEFAULT\", \"subnum\": \"0\", \"column\": \"comos-56044\", \"author_name\": \"\", \"author_uid\": \"0\", \"countmode\": \"C_HIDE,C_QREPLY,C_SHOW\", \"base\": \"0\", \"url\": \"http://news.sina.com.cn/c/nd/2017-08-27/doc-ifykiqfe2001395.shtml\", \"groups\": \"\", \"time\": \"2017-08-27 17:00:34\", \"newsid\": \"comos-fykiqfe2001395\", \"author_profile_img\": \"\", \"config\": \"url_wap=http%3A%2F%2Fnews.sina.cn%2Fgn%2F2017-08-27%2Fdetail-ifykiqfe2001395.d.html\", \"news_mid\": \"4818484945662840832\", \"channel\": \"gn\"}, \"grouplist\": [], \"hot_list\": []}}\n"
     ]
    }
   ],
   "source": [
    "import requests\n",
    "# url = 'http://comment5.news.sina.com.cn/page/info?version=1&format=js&channel=gn&newsid=comos-\\\n",
    "# fykiqfe2001395&group=&compress=0&ie=utf-8&oe=utf-8&page=1&page_size=20&jsvar=loader_1503842101937_85111520'\n",
    "url = 'http://comment5.news.sina.com.cn/page/info?version=1&format=js&channel=gn&newsid=comos-\\\n",
    "fykiqfe2001395&group=&compress=0&ie=utf-8&oe=utf-8&page=1&page_size=20'\n",
    "comments = requests.get(url)\n",
    "print(comments.text)"
   ]
  },
  {
   "cell_type": "code",
   "execution_count": 20,
   "metadata": {},
   "outputs": [
    {
     "data": {
      "text/plain": [
       "{'result': {'cmntlist': [{'against': '0',\n",
       "    'agree': '1',\n",
       "    'area': '北京',\n",
       "    'channel': 'gn',\n",
       "    'channel_source': '',\n",
       "    'comment_imgs': '',\n",
       "    'comment_mid': '4818518162159841280',\n",
       "    'config': 'client_port=0&area=北京&wb_verified=0&wb_screen_name=noblezhang&wb_profile_img=http%3A%2F%2Ftva3.sinaimg.cn%2Fcrop.0.0.1080.1080.50%2F7d8fa264jw8erxv11st0fj20u00u0jup.jpg&followers_count=408&wb_user_id=2106565220&wb_time=1503832353&area=北京',\n",
       "    'content': '包括省会在内的大型城市都在主推公共交通，分时租赁需要大量的充电、车位资源怎么可能那么容易的解决，还奢谈什么“国内共享汽车已现爆发迹象”',\n",
       "    'ip': '114.243.15.37',\n",
       "    'length': '67',\n",
       "    'level': '0',\n",
       "    'mid': '59A2A921-72F30F25-7D8FA264-8C2-8EA',\n",
       "    'news_mid': '4818484945662840832',\n",
       "    'news_mid_source': '0',\n",
       "    'newsid': 'comos-fykiqfe2001395',\n",
       "    'newsid_source': '',\n",
       "    'nick': 'noblezhang',\n",
       "    'parent': '',\n",
       "    'parent_mid': '0',\n",
       "    'parent_nick': '',\n",
       "    'parent_profile_img': '',\n",
       "    'parent_uid': '0',\n",
       "    'profile_img': 'http://tva3.sinaimg.cn/crop.0.0.1080.1080.50/7d8fa264jw8erxv11st0fj20u00u0jup.jpg',\n",
       "    'rank': '1',\n",
       "    'status': 'M_PASS',\n",
       "    'thread': '',\n",
       "    'thread_mid': '0',\n",
       "    'time': '2017-08-27 19:12:33',\n",
       "    'uid': '2106565220',\n",
       "    'usertype': '',\n",
       "    'vote': '0'},\n",
       "   {'against': '0',\n",
       "    'agree': '0',\n",
       "    'area': '北京',\n",
       "    'channel': 'gn',\n",
       "    'channel_source': '',\n",
       "    'comment_imgs': '',\n",
       "    'comment_mid': '4818509405900058624',\n",
       "    'config': 'client_port=0&area=北京&area=北京',\n",
       "    'content': '润许回家充电。',\n",
       "    'ip': '114.252.211.74',\n",
       "    'length': '7',\n",
       "    'level': '0',\n",
       "    'mid': '59A2A0F9-72FCD34A-4D48C061-8C2-897',\n",
       "    'news_mid': '4818484945662840832',\n",
       "    'news_mid_source': '0',\n",
       "    'newsid': 'comos-fykiqfe2001395',\n",
       "    'newsid_source': '',\n",
       "    'nick': '1296613473',\n",
       "    'parent': '',\n",
       "    'parent_mid': '0',\n",
       "    'parent_nick': '',\n",
       "    'parent_profile_img': '',\n",
       "    'parent_uid': '0',\n",
       "    'profile_img': '',\n",
       "    'rank': '0',\n",
       "    'status': 'M_PASS',\n",
       "    'thread': '',\n",
       "    'thread_mid': '0',\n",
       "    'time': '2017-08-27 18:37:45',\n",
       "    'uid': '1296613473',\n",
       "    'usertype': '',\n",
       "    'vote': '0'}],\n",
       "  'count': {'qreply': 1, 'show': 2, 'total': 5},\n",
       "  'encoding': 'utf-8',\n",
       "  'grouplist': [],\n",
       "  'hot_list': [],\n",
       "  'language': 'ch',\n",
       "  'news': {'author_name': '',\n",
       "   'author_profile_img': '',\n",
       "   'author_uid': '0',\n",
       "   'base': '0',\n",
       "   'channel': 'gn',\n",
       "   'column': 'comos-56044',\n",
       "   'config': 'url_wap=http%3A%2F%2Fnews.sina.cn%2Fgn%2F2017-08-27%2Fdetail-ifykiqfe2001395.d.html',\n",
       "   'countmode': 'C_HIDE,C_QREPLY,C_SHOW',\n",
       "   'default': 'M_DEFAULT',\n",
       "   'groups': '',\n",
       "   'news_mid': '4818484945662840832',\n",
       "   'newsid': 'comos-fykiqfe2001395',\n",
       "   'show': 'M_DEFAULT',\n",
       "   'status': 'N_NORMAL',\n",
       "   'subnum': '0',\n",
       "   'time': '2017-08-27 17:00:34',\n",
       "   'title': '牌照停车位充电桩短缺 共享汽车如何突围？',\n",
       "   'url': 'http://news.sina.com.cn/c/nd/2017-08-27/doc-ifykiqfe2001395.shtml'},\n",
       "  'replydict': {},\n",
       "  'status': {'code': 0, 'msg': ''},\n",
       "  'top': []}}"
      ]
     },
     "execution_count": 20,
     "metadata": {},
     "output_type": "execute_result"
    }
   ],
   "source": [
    "import json\n",
    "jd = json.loads(comments.text.strip('var data='))\n",
    "jd"
   ]
  },
  {
   "cell_type": "code",
   "execution_count": 21,
   "metadata": {},
   "outputs": [
    {
     "data": {
      "text/plain": [
       "5"
      ]
     },
     "execution_count": 21,
     "metadata": {},
     "output_type": "execute_result"
    }
   ],
   "source": [
    "jd['result']['count']['total']"
   ]
  },
  {
   "cell_type": "code",
   "execution_count": 27,
   "metadata": {},
   "outputs": [
    {
     "data": {
      "text/plain": [
       "'fykiqfe2001395'"
      ]
     },
     "execution_count": 27,
     "metadata": {},
     "output_type": "execute_result"
    }
   ],
   "source": [
    "newsurl = 'http://news.sina.com.cn/c/nd/2017-08-27/doc-ifykiqfe2001395.shtml'\n",
    "newsurl.split('/')[-1].rstrip('.shtml').lstrip('doc-i')"
   ]
  },
  {
   "cell_type": "code",
   "execution_count": 41,
   "metadata": {},
   "outputs": [],
   "source": [
    "import re\n",
    "m = re.search('doc-i(.+).shtml', newsurl)\n",
    "newsid =  m.group(1)"
   ]
  },
  {
   "cell_type": "code",
   "execution_count": 44,
   "metadata": {},
   "outputs": [
    {
     "data": {
      "text/plain": [
       "'http://comment5.news.sina.com.cn/page/info?version=1&format=js&channel=gn&newsid=comos-fykiqfe2001395&group=&compress=0&ie=utf-8&oe=utf-8&page=1&page_size=20'"
      ]
     },
     "execution_count": 44,
     "metadata": {},
     "output_type": "execute_result"
    }
   ],
   "source": [
    "commentURL = 'http://comment5.news.sina.com.cn/page/info?version=1&format=js&channel=gn&newsid=comos-\\\n",
    "{}&group=&compress=0&ie=utf-8&oe=utf-8&page=1&page_size=20'\n",
    "commentURL.format(newsid)"
   ]
  },
  {
   "cell_type": "code",
   "execution_count": 45,
   "metadata": {
    "collapsed": true
   },
   "outputs": [],
   "source": [
    "import json\n",
    "\n",
    "def getCommentCounts(newsurl):\n",
    "    m = re.search('doc-i(.+).shtml', newsurl)\n",
    "    newsid =  m.group(1)\n",
    "    comments = requests.get(commentURL.format(newsid))\n",
    "\n",
    "    jd = json.loads(comments.text.strip('var data='))\n",
    "    return jd['result']['count']['total']"
   ]
  },
  {
   "cell_type": "code",
   "execution_count": 46,
   "metadata": {},
   "outputs": [
    {
     "data": {
      "text/plain": [
       "5"
      ]
     },
     "execution_count": 46,
     "metadata": {},
     "output_type": "execute_result"
    }
   ],
   "source": [
    "newsurl = 'http://news.sina.com.cn/c/nd/2017-08-27/doc-ifykiqfe2001395.shtml'\n",
    "\n",
    "getCommentCounts(newsurl)"
   ]
  },
  {
   "cell_type": "code",
   "execution_count": 50,
   "metadata": {
    "collapsed": true
   },
   "outputs": [],
   "source": [
    "import requests\n",
    "from bs4 import BeautifulSoup\n",
    "\n",
    "def getNewsDetail(newsurl):\n",
    "    result = {}\n",
    "    res = requests.get(newsurl)\n",
    "    res.encoding = 'utf-8'\n",
    "    soup = BeautifulSoup(res.text, 'html.parser')\n",
    "    result['title'] = soup.select('#artibodyTitle')[0].text\n",
    "    result['newssource'] = soup.select('.time-source span a')[0].text\n",
    "    timesource = soup.select('.time-source')[0].contents[0].strip()\n",
    "    result['dt'] = datetime.strptime(timesource, '%Y年%m月%d日%H:%M')\n",
    "    result['article'] = ''.join([p.text.strip() for p in soup.select('#artibody p')[:-1]])\n",
    "    result['editor'] = soup.select('.article-editor')[0].text.strip('责任编辑 :')\n",
    "    result['comments'] = getCommentCounts(newsurl)\n",
    "    return result"
   ]
  },
  {
   "cell_type": "code",
   "execution_count": 51,
   "metadata": {},
   "outputs": [
    {
     "data": {
      "text/plain": [
       "{'article': '新华社上海8月27日电题：牌照、停车位、充电桩短缺——共享汽车如何突围？新华社记者高少华、丁静、王丰共享汽车成为国内共享经济新风口。交通运输部、住房城乡建设部近期联合发布的《关于促进小微型客车租赁健康发展的指导意见》提出，“鼓励分时租赁发展”，给相关行业注入一针“强心剂”。日前举行的“2017上海国际共享汽车大会”上专家指出，分时租赁在中国“起步较晚，蓬勃发展，但举步尚艰”，牌照、停车位、充电桩等成为瓶颈，需要各方协同创新以促进产业可持续发展。“跑马圈地”正上演共享汽车作为城市公共出行的补充，今年以来正在国内多个城市迅速升温。共享宝马、共享吉普、共享特斯拉等消息引起公众关注。国内各大共享汽车企业“跑马圈地”：环球车享投放运营车辆已达13000辆，今年底预计增至3万辆；杭州盼达在全国有近万辆汽车在运营；Gofun出行称已购置车辆12000辆。“共享自行车解决零到十公里的出行，共享汽车可以解决十到一百公里。”环球车享首席市场官黄春华说，推动电动汽车分时租赁对汽车产业、城市发展和用户出行意义重大。指导意见“鼓励分时租赁发展”。同济大学汽车学院副教授、全国新能源汽车产业数据中心副秘书长吴小员说：“新能源汽车分时租赁获得政策支持，预示分时租赁将逐步进入有序健康的发展轨道。”在专家看来，指导意见出台，显示国家将分时租赁视为减缓大城市私人轿车快速增长的途径。分时租赁或将成为多层次城市交通体系一部分，为人们提供出行方式新选择。城市管理跟不上共享汽车发展如火如荼，但牌照、停车位、充电桩等公共资源短缺，成为制约行业快速发展的瓶颈。“对电动汽车分时租赁来说，卡脖子的不是钱，而是车、桩、位一体化的共享。”吴小员说。牌照紧缺是共享汽车面临的首要难题。前不久，深圳市宝港能源科技有限公司宣布，今年年底前将在深圳投放新能源共享汽车10000台。企业的热情却被浇了一盆冷水。“深圳市交委给不了那么多车牌，我们只得缩减到4000台。”宝港能源副总经理吴波说，公司投放计划缩减一多半，过去两个多月，企业实际获得牌照只有900张左右。在牌照资源紧张的城市，这个矛盾凸显。停车位不足是另一大问题。在北上广深等一线城市，公共停车位资源本就紧张，许多共享汽车无车位可停。多家共享汽车企业负责人表示，取还车网点是行业发展的关键，已有网点远远不能满足用户需求，停车位不足直接影响用户体验。共享汽车也面临充电难题。新能源共享汽车需要大量充电桩来配套，充电桩和共享汽车数量不匹配，严重制约分时租赁行业车辆运营率。Gofun出行首席运营官谭奕说，充电桩越多，车和桩离得越近，充电效率和运营效率就越高。在一些城市老城区，增容是一个问题。专家认为，共享汽车在国内处于发展初期，面临许多不完善的地方。这个行业需要资金，更需要充电、车位、运营等资源。国内共享汽车已现爆发迹象，城市公共资源却“捉襟见肘”。共同发力解难题今年上半年，共享汽车品牌“友友用车”停止运营，给行业敲了警钟。“跑马圈地，盲目扩张，急功近利，不是可持续发展方式。”北京首汽智行科技有限公司战略副总裁袁旬说。深圳市政协委员、深圳职业技术学院副教授王雪说，共享汽车需要大量牌照、停车场地等公共资源，共享汽车迅速扩张与资源日趋紧张之间必然出现越来越尖锐的矛盾。公共配套资源如何及时跟上、合理配置，考验政府部门的智慧和能力。“面对共享汽车爆发的迹象，政府部门应未雨绸缪，优化牌照、停车位、充电桩等公共资源的管理、调配、建设。”王雪说。北京市律师协会交通专业委员会秘书长黄海波认为，汽车占用城市空间和道路资源较多，城市管理者要研究规模控制、市场准入、车辆定义、安全规范、保险等问题。广州规划专家、华南理工大学教授袁奇峰说，多样化出行需求客观存在，共享汽车增加了服务类型，有条件的地方应考虑完善配套设施支持其发展。交通运输部科学研究院发展中心副研究员李艳霞说，共享单车运营中出现了乱停乱放、占用车道、随意破坏、违规骑行等乱象，共享汽车如何避免类似问题，是管理部门从一开始就需要重点考虑的。（完）',\n",
       " 'comments': 5,\n",
       " 'dt': datetime.datetime(2017, 8, 27, 16, 56),\n",
       " 'editor': '：张迪',\n",
       " 'newssource': '新华社',\n",
       " 'title': '牌照停车位充电桩短缺 共享汽车如何突围？'}"
      ]
     },
     "execution_count": 51,
     "metadata": {},
     "output_type": "execute_result"
    }
   ],
   "source": [
    "getNewsDetail(newsurl)"
   ]
  },
  {
   "cell_type": "code",
   "execution_count": null,
   "metadata": {
    "collapsed": true
   },
   "outputs": [],
   "source": []
  }
 ],
 "metadata": {
  "kernelspec": {
   "display_name": "Python 3",
   "language": "python",
   "name": "python3"
  },
  "language_info": {
   "codemirror_mode": {
    "name": "ipython",
    "version": 3
   },
   "file_extension": ".py",
   "mimetype": "text/x-python",
   "name": "python",
   "nbconvert_exporter": "python",
   "pygments_lexer": "ipython3",
   "version": "3.5.2"
  }
 },
 "nbformat": 4,
 "nbformat_minor": 2
}
