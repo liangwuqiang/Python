{
 "cells": [
  {
   "cell_type": "markdown",
   "metadata": {},
   "source": [
    "# Python代码段 收藏"
   ]
  },
  {
   "cell_type": "markdown",
   "metadata": {},
   "source": [
    "### 将字符串转成哈希码 "
   ]
  },
  {
   "cell_type": "code",
   "execution_count": 1,
   "metadata": {},
   "outputs": [
    {
     "name": "stdout",
     "output_type": "stream",
     "text": [
      "5f4dcc3b5aa765d61d8327deb882cf99\n"
     ]
    }
   ],
   "source": [
    "def md5(string):\n",
    "    \"\"\" 将字符串转成哈希码 \"\"\"\n",
    "    import hashlib\n",
    "    if not isinstance(string, str):\n",
    "        string = str(string)\n",
    "    md5 = hashlib.md5()  \n",
    "    md5.update(string.encode('utf-8'))\n",
    "    return md5.hexdigest()\n",
    "print(md5('password'))"
   ]
  },
  {
   "cell_type": "code",
   "execution_count": null,
   "metadata": {
    "collapsed": true
   },
   "outputs": [],
   "source": []
  }
 ],
 "metadata": {
  "kernelspec": {
   "display_name": "Python 3",
   "language": "python",
   "name": "python3"
  },
  "language_info": {
   "codemirror_mode": {
    "name": "ipython",
    "version": 3
   },
   "file_extension": ".py",
   "mimetype": "text/x-python",
   "name": "python",
   "nbconvert_exporter": "python",
   "pygments_lexer": "ipython3",
   "version": "3.5.2"
  }
 },
 "nbformat": 4,
 "nbformat_minor": 2
}
