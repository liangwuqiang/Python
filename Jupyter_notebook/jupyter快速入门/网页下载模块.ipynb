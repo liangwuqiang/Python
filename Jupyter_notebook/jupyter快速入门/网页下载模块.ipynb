{
 "cells": [
  {
   "cell_type": "code",
   "execution_count": 20,
   "metadata": {},
   "outputs": [],
   "source": [
    "from urllib import request\n",
    "from bs4 import BeautifulSoup\n",
    "import re\n",
    "import os\n",
    "\n",
    "class WebPageDownload():\n",
    "    \"\"\" 网页下载, 只截取标题,内容及内容中所包含的图片 \"\"\"\n",
    "    def __init__(self, url, titleKey, contentKey):\n",
    "        self.url = url\n",
    "        self.titleKey = titleKey\n",
    "        self.contentKey = contentKey\n",
    "        self.title = ''\n",
    "        self.content = ''\n",
    "    \n",
    "    def url_to_html(self):\n",
    "        \"\"\" 通过url取得网页 \"\"\"\n",
    "        req = request.Request(self.url)\n",
    "        res = request.urlopen(req)\n",
    "        html = res.read().decode('utf-8')\n",
    "        return html\n",
    "    \n",
    "    def extract_from_soup(self, html):\n",
    "        \"\"\" 提取标题和文章内容 \"\"\"\n",
    "        soup = BeautifulSoup(html, 'html.parser')\n",
    "        self.title = soup.select(self.titleKey)[0].text.strip()\n",
    "        self.content = soup.select(self.contentKey)[0]\n",
    "        \n",
    "    def md5(self, string):\n",
    "        \"\"\" 将字符串转成哈希码 \"\"\"\n",
    "        import hashlib\n",
    "        if not isinstance(string, str):\n",
    "            string = str(string)\n",
    "        md5 = hashlib.md5()  \n",
    "        md5.update(string.encode('utf-8'))\n",
    "        return md5.hexdigest()\n",
    "\n",
    "    def download_images(self):\n",
    "        \"\"\" 下载文章中的图片 \"\"\"\n",
    "        pattern = '<img .*?src=\\\"(.*?)\\\"'\n",
    "        re_image = re.compile(pattern)\n",
    "        for imageUrl in re_image.findall(self.content):\n",
    "            md5 = self.md5(imageUrl)\n",
    "            if not os.path.exist('./images'):\n",
    "                os.path.mkdir('./images')\n",
    "            filename = 'images/' + imageMd5 + os.path.splitext(imageUrl)[-1]\n",
    "            try:\n",
    "                request.urlretrieve(imageUrl, filename)\n",
    "            except Exception as e:\n",
    "                print('图片出错', e)\n",
    "            else:\n",
    "                self.content = self.content.replace(imageUrl, filename)\n",
    "        \n",
    "    def ouputHtml(self):\n",
    "        \"\"\" 输出html文件 \"\"\"\n",
    "        html_template = \"\"\"<!DOCTYPE html>\n",
    "            <html><head><meta charset=\"UTF-8\">\n",
    "            </head><body>\n",
    "            <p><center><h1>{title}</h1></center></p>\n",
    "                {content}\n",
    "            </body></html>\"\"\"\n",
    "        html = html_template.format(title=title, content=content)\n",
    "        filename = str(self.title) + \".html\"\n",
    "        with open(filename, \"w\") as f:\n",
    "            f.write(html)\n",
    "    \n",
    "    def run(self):\n",
    "        \"\"\" 跑起来 \"\"\"\n",
    "        html = self.url_to_html()\n",
    "        self.extract_from_soup(html)\n",
    "        self.download_images(self.content)\n",
    "        pass\n",
    "    \n",
    "\n",
    "url = 'http://www.codingpy.com/article/getting-started-with-jupyter-notebook-part-1/'\n",
    "titleKey = '.header h1'\n",
    "contentKey = '.article-content'\n",
    "download = WebPageDownload(url, titleKey, contentKey)\n",
    "download.run()"
   ]
  },
  {
   "cell_type": "code",
   "execution_count": 22,
   "metadata": {},
   "outputs": [
    {
     "name": "stdout",
     "output_type": "stream",
     "text": [
      "Jupyter Notebook 快速入门（上）\n"
     ]
    }
   ],
   "source": [
    "print(download.title)"
   ]
  },
  {
   "cell_type": "code",
   "execution_count": 23,
   "metadata": {},
   "outputs": [
    {
     "name": "stdout",
     "output_type": "stream",
     "text": [
      "<div class=\"article-content\">\n",
      "<blockquote>\n",
      "<p>本文作者为 <a href=\"https://www.packtpub.com/books/content/getting-started-jupyter-notebook-part-1\">Marin Gilles</a>，他是来自法国的一位物理学博士生，用 Python 开发了自己的物理学模拟框架。本文分为两部分，是<a href=\"https://github.com/PythonTG/PythonTG\"><strong> Python 翻译组</strong></a>成立后的第一篇译文，译者 <a href=\"http://codingpy.com\">EarlGrey</a>。</p>\n",
      "</blockquote>\n",
      "<p>Jupyter Notebook（此前被称为 IPython notebook）是一个交互式笔记本，支持运行 40 多种编程语言。在本文中，我们将介绍 Jupyter notebook 的主要特性，以及为什么对于希望编写漂亮的交互式文档的人来说是一个强大工具。</p>\n",
      "<p>在开始使用 notebook 之前，我们先需要安装该库。你可以在<a href=\"https://jupyter.readthedocs.org/en/latest/install.html\"> Jupyter 官网</a>上找到完整的步骤。</p>\n",
      "<blockquote>\n",
      "<p>译者注：其实只要<code>pip install jupyter</code>就可以了</p>\n",
      "</blockquote>\n",
      "<div class=\"codehilite\"><pre>jupyter notebook\n",
      "</pre></div>\n",
      "<p>运行上面的命令之后，你将看到类似下面这样的输出：</p>\n",
      "<div class=\"codehilite\"><pre>[I 20:06:36.367 NotebookApp] Writing notebook server cookie secret to /run/user/1000/jupyter/notebook_cookie_secret\n",
      "[I 20:06:36.813 NotebookApp] Serving notebooks from local directory: /home/your_username\n",
      "[I 20:06:36.813 NotebookApp] 0 active kernels\n",
      "[I 20:06:36.813 NotebookApp] The IPython Notebook is running at: http://localhost:8888/\n",
      "[I 20:06:36.813 NotebookApp] Use Control-C to stop this server and shut down all kernels (twice to skip confirmation).\n",
      "</pre></div>\n",
      "<p>同时，会在你开启 notebook 的文件夹中启动 Jupyter 主界面，如下所示：</p>\n",
      "<p><img alt=\"Jupyter 主界面\" src=\"http://ww3.sinaimg.cn/mw690/006faQNTgw1f63kcy3kzgj30id05g3yo.jpg\"/></p>\n",
      "<p>如果想新建一个 notebook，只需要点击<code>New</code>，选择你希望启动的 notebook 类型即可。</p>\n",
      "<p><img alt=\"notebook 类型\" src=\"http://ww2.sinaimg.cn/mw690/006faQNTgw1f63kcysz5cj30id09t3yr.jpg\"/></p>\n",
      "<p>这里，因为我只有一个 Python 内核，所以我们运行一个 Python notebook。在新打开的标签页中，我们会看到 notebook 界面，目前里面什么也没有。</p>\n",
      "<p><img alt=\" notebook 界面\" src=\"http://ww3.sinaimg.cn/mw690/006faQNTgw1f63kcyznzzj30id04iweq.jpg\"/></p>\n",
      "<p>notebook 界面由以下部分组成：</p>\n",
      "<ol>\n",
      "<li>notebook 的名称</li>\n",
      "<li>主工具栏，提供了保存、导出、重载 notebook，以及重启内核等选项</li>\n",
      "<li>快捷键</li>\n",
      "<li>notebook 主要区域，包含了 notebook 的内容编辑区</li>\n",
      "</ol>\n",
      "<p>慢慢熟悉这些菜单和选项。如果想要详细了解有关 notebook 或一些库的具体话题，可以使用菜单栏右侧的帮助菜单。</p>\n",
      "<p>下方的主要区域，由被称为单元格的部分组成。每个 notebook 由多个单元格构成，而每个单元格又可以有不同的用途。</p>\n",
      "<p>下方截图中看到的是一个代码单元格（code cell），以<code>[ ]</code>开头。在这种类型的单元格中，可以输入任意代码并执行。例如，输入<code>1 + 2</code>并按下<code>Shift + Enter</code>。之后，单元格中的代码就会被计算，光标也会被移动动一个新的单元格中。你会得到如下结果：</p>\n",
      "<p><img alt=\"代码单元格\" src=\"http://ww4.sinaimg.cn/mw690/006faQNTgw1f63kcyxn32j30id05yq39.jpg\"/></p>\n",
      "<p>根据绿色边框线，我们可以轻松地识别出当前工作的单元格。接下来，我们在第二个单元格中输入些其他代码，例如：</p>\n",
      "<div class=\"codehilite\"><pre><span class=\"k\">for</span> <span class=\"n\">i</span> <span class=\"ow\">in</span> <span class=\"nb\">range</span><span class=\"p\">(</span><span class=\"mi\">5</span><span class=\"p\">):</span>\n",
      "    <span class=\"k\">print</span><span class=\"p\">(</span><span class=\"n\">i</span><span class=\"p\">)</span>\n",
      "</pre></div>\n",
      "<p>对上面的代码求值时，你会得到：</p>\n",
      "<p><img alt=\"jupyter 代码执行实例\" src=\"http://ww1.sinaimg.cn/mw690/006faQNTgw1f63kcz8s4tj30id09kdgd.jpg\"/></p>\n",
      "<p>和前一个示例一样，代码被计算之后，马上就会显示结果。你应该注意到了，这次没有出现类似<code>Out[2]</code>这样的文字。这是因为我们将结果打印出来了，没有返回任何的值。</p>\n",
      "<p>notebook 有一个非常有趣的特性，就是可以修改之前的单元格，对其重新计算，这样就可以更新整个文档了。试着把光标移回第一个单元格，并将<code>1 + 2</code>修改成<code>2 + 3</code>，然后按下<code>Shift + Enter</code>重新计算该单元格。你会发现结果马上就更新成了 5。如果你不想重新运行整个脚本，只想用不同的参数测试某个程式的话，这个特性显得尤其强大。不过，你也可以重新计算整个 notebook，只要点击<code>Cell</code> -&gt; <code>Run all</code>即可。</p>\n",
      "<p>现在我们已经知道了如何输入代码，为什么不尝试着让这个 notebook 更加漂亮、内容更丰富？为此，我们需要使用其他类型的单元格，即 Header单元格和 Markdown单元格。</p>\n",
      "<p>首先，我们在顶部添加一个 notebook 的标题。选中第一个单元格，然后点击<code>Insert</code> -&gt; <code>Insert单元格above</code>（在上方插入单元格）。你会发现，文档的顶部马上就出现了一个新的单元格。点击在快捷键栏中的单元格类型，将其变成一个标题单元格（heading cell）：</p>\n",
      "<p><img alt=\"变成一个标题 cell\" src=\"http://ww2.sinaimg.cn/mw690/006faQNTgw1f63kczy7xuj30id00umx0.jpg\"/></p>\n",
      "<p>选中下拉选项中的 Heading。然后会出现一个弹出消息，告诉你如何创建不同层级的标题，这样你就有了一个不同类型的 cell：</p>\n",
      "<p><img alt=\"一个不同类型的 cell\" src=\"http://ww2.sinaimg.cn/mw690/006faQNTgw1f63kd03mnqj30id035q2s.jpg\"/></p>\n",
      "<p>这个单元格以<code>#</code>标记开头，意味着这是一个一级标题。如果需要子标题，可以使用以下标记表示（改变单元格类型时弹出消息中有解释）：</p>\n",
      "<div class=\"codehilite\"><pre># : 一级标题\n",
      "## : 二级标题\n",
      "### : 三级标题\n",
      "...\n",
      "</pre></div>\n",
      "<p>在<code>#</code>之后写下文档的标题，然后计算该单元格。你会发现一个样式非常好看的标题。作为示例和练习，我还添加了其他几个标题单元格：</p>\n",
      "<p><img alt=\"添加了其他几个标题 cell\" src=\"http://ww2.sinaimg.cn/mw690/006faQNTgw1f63kd06rzgj30id0bnwex.jpg\"/></p>\n",
      "<p>添加好标题之后，我们在编写一些解释，介绍每个代码单元格中的情况。为此，我们要在相应的地方插入单元格，然后将其类型变成 Markdown。然后，计算新的单元格。就这样，你的解释文本就漂亮地渲染出来了！</p>\n",
      "<p><img alt=\"解释文本就漂亮地渲染出来了\" src=\"http://ww1.sinaimg.cn/mw690/006faQNTgw1f63kd0oq8gj30id0dtwf4.jpg\"/></p>\n",
      "<p>最后，你可以重命名该 notebook，点击<code>Fiel</code> -&gt; <code>Rename</code>，然后输入新的名称。这样，新的名称将会出现在窗口的左上角，在 Jupyter 的标志旁边。</p>\n",
      "<p>在下一篇中，我们将更深入地了解 notebook 的能力，以及如何继承其他 Python 库。</p>\n",
      "<hr/>\n",
      "<p><a href=\"https://www.packtpub.com/books/content/getting-started-jupyter-notebook-part-1\">点此查看原文链接。</a></p>\n",
      "<div class=\"copyright-box ui segment secondary grey\">\n",
      "<p>本站文章除注明转载外，均为本站原创或编译，如需转载，请联系微信公众号“编程派”获得授权。转载时，应注明来源、作者及原文链接。</p>\n",
      "</div>\n",
      "<div class=\"ui divider\"></div>\n",
      "<div class=\"nearby\">\n",
      "<div class=\"ui animated basic button teal\" data-content=\"Python开发必备神器之一：virtualenv\" data-variation=\"wide\">\n",
      "<div class=\"visible content\">上一篇</div>\n",
      "<a href=\"http://www.codingpy.com/article/virtualenv-must-have-tool-for-python-development/\"><div class=\"hidden content\">\n",
      "<i class=\"left arrow icon\"></i>\n",
      "</div></a>\n",
      "</div>\n",
      "<div class=\"ui animated basic button teal\" data-content=\"Jupyter Notebook 快速入门（下）\" data-variation=\"wide\">\n",
      "<div class=\"visible content\">下一篇</div>\n",
      "<a href=\"http://www.codingpy.com/article/getting-started-with-jupyter-notebook-part-2/\"><div class=\"hidden content\">\n",
      "<i class=\"right arrow icon\"></i>\n",
      "</div></a>\n",
      "</div>\n",
      "<div class=\"share-article ui button teal icon basic\">\n",
      "<i class=\"share alternate icon\"></i>\n",
      "</div>\n",
      "<div class=\"ui popup\">\n",
      "<div class=\"bdsharebuttonbox bdshare-button-style1-24\" data-bd-bind=\"1444833783821\">\n",
      "<a class=\"item bds_qzone\" data-cmd=\"qzone\" href=\"#\" title=\"分享到QQ空间\"></a>\n",
      "<a class=\"item bds_tsina\" data-cmd=\"tsina\" href=\"#\" title=\"分享到新浪微博\"></a>\n",
      "<a class=\"item bds_tqq\" data-cmd=\"tqq\" href=\"#\" title=\"分享到腾讯微博\"></a>\n",
      "<a class=\"item bds_renren\" data-cmd=\"renren\" href=\"#\" title=\"分享到人人网\"></a>\n",
      "<a class=\"item bds_weixin\" data-cmd=\"weixin\" href=\"#\" title=\"分享到微信\"></a>\n",
      "</div>\n",
      "</div>\n",
      "</div>\n",
      "</div>\n"
     ]
    }
   ],
   "source": [
    "print(download.content)"
   ]
  },
  {
   "cell_type": "code",
   "execution_count": 10,
   "metadata": {},
   "outputs": [
    {
     "data": {
      "text/plain": [
       "'.article-content'"
      ]
     },
     "execution_count": 10,
     "metadata": {},
     "output_type": "execute_result"
    }
   ],
   "source": [
    "download.contentKey"
   ]
  },
  {
   "cell_type": "code",
   "execution_count": null,
   "metadata": {
    "collapsed": true
   },
   "outputs": [],
   "source": []
  }
 ],
 "metadata": {
  "kernelspec": {
   "display_name": "Python 3",
   "language": "python",
   "name": "python3"
  },
  "language_info": {
   "codemirror_mode": {
    "name": "ipython",
    "version": 3
   },
   "file_extension": ".py",
   "mimetype": "text/x-python",
   "name": "python",
   "nbconvert_exporter": "python",
   "pygments_lexer": "ipython3",
   "version": "3.5.2"
  }
 },
 "nbformat": 4,
 "nbformat_minor": 2
}
